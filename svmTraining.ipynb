{
 "cells": [
  {
   "cell_type": "code",
   "execution_count": null,
   "metadata": {},
   "outputs": [],
   "source": [
    "from sklearn.svm import SVC\n",
    "import os\n",
    "import numpy as np\n",
    "import pandas as pd\n",
    "import matplotlib.pyplot as plt\n",
    "import PIL\n",
    "import sklearn.metrics as metrics\n",
    "import seaborn as sns\n",
    "from sklearn.discriminant_analysis import LinearDiscriminantAnalysis as LDA\n",
    "from sklearn.model_selection import GridSearchCV\n",
    "from glob import glob\n",
    "from sklearn.preprocessing import LabelEncoder\n",
    "from sklearn.metrics import accuracy_score\n",
    "from sklearn.model_selection import train_test_split\n",
    "from keras.utils import to_categorical\n",
    "from sklearn.metrics import accuracy_score\n",
    "from sklearn.metrics import ConfusionMatrixDisplay\n",
    "\n",
    "#Se elijen las carpetas desde donde se trabaja\n",
    "mainpathlocation = 'D:/CosasUniversidad/Material/ULA6-Semestre12/Taller-de-Titulo-II/Recursos/HAM10000/'\n",
    "imagetrainlocation = 'HAMTESTS/n6Resized'\n",
    "dataaugmentloc = 'D:/CosasUniversidad/Material/ULA6-Semestre12/Taller-de-Titulo-II/Recursos/HAM10000/HAMTESTS'"
   ]
  },
  {
   "cell_type": "code",
   "execution_count": null,
   "metadata": {},
   "outputs": [],
   "source": [
    "os.chdir(dataaugmentloc)\n",
    "#Se lee el archivo .pkl obtenido en svmIndexCalc y se declaran los atributos con los que se trabajan\n",
    "metadf = pd.read_pickle('svmDataset.pkl')\n",
    "metadf['indexes'] = metadf[['Circularidad', 'ThinRatio', 'AspectRatio','AvgRed','AvgGreen','AvgBlue','AvgHue','AvgSaturation','AvgIntensity','Diameter','Asimetria']].values.tolist()\n",
    "\n",
    "\n",
    "X = np.asarray(metadf['indexes'].tolist())\n",
    "Y = metadf['label']\n",
    "Y_cat = to_categorical(Y, num_classes=7)"
   ]
  },
  {
   "cell_type": "code",
   "execution_count": null,
   "metadata": {},
   "outputs": [],
   "source": [
    "x_train, x_test, y_train, y_test = train_test_split(X, \n",
    "                                                    Y,\n",
    "                                                    test_size=0.2,\n",
    "                                                    random_state=12)\n",
    "\n",
    "#y_train = y_train[0, :] \n",
    "\n",
    "#Se entrena usando Linear Discriminant Analysis\n",
    "\n",
    "lda = LDA()\n",
    "x_train = lda.fit_transform(x_train, y_train)\n",
    "x_test = lda.transform(x_test)\n"
   ]
  },
  {
   "cell_type": "code",
   "execution_count": null,
   "metadata": {},
   "outputs": [],
   "source": [
    "#Se buscan los parametros optimos\n",
    "\n",
    "parameters = [{'kernel': ['rbf'],\n",
    "               'gamma': [0.01, 0.1, 0.5],\n",
    "               'C': [10, 100, 1000]}]\n",
    "print(\"# Tuning hyper-parameters\")\n",
    "clf = GridSearchCV(SVC(), parameters, cv=5)\n",
    "clf.fit(x_train, y_train)\n",
    "print('best parameters:')\n",
    "print(clf.best_params_)\n",
    "print('-------------------------------------')\n",
    "means = clf.cv_results_['mean_test_score']\n",
    "stds = clf.cv_results_['std_test_score']\n",
    "for mean, std, params in zip(means, stds, clf.cv_results_['params']):\n",
    "    print(\"%0.3f (+/-%0.03f) for %r\"\n",
    "\n",
    "          % (mean, std * 2, params)) "
   ]
  },
  {
   "cell_type": "code",
   "execution_count": null,
   "metadata": {},
   "outputs": [],
   "source": [
    "#Se declaran el C y Gamma optimos, obtenidos anteriormente\n",
    "#noresampling\n",
    "#optimal_C = 10\n",
    "#optimal_gamma = 0.1\n",
    "\n",
    "#SVM 1500\n",
    "optimal_C = 1000\n",
    "optimal_gamma = 0.5\n",
    "\n",
    "#fit model\n",
    "svc = SVC(kernel=\"rbf\", gamma=optimal_gamma, C=optimal_C)\n",
    "svc.fit(x_train, y_train)\n",
    "\n",
    "pred = svc.predict(x_test)\n",
    "print(\"La presición del modelo es de: \", accuracy_score(y_test, pred))"
   ]
  },
  {
   "cell_type": "code",
   "execution_count": null,
   "metadata": {},
   "outputs": [],
   "source": [
    "#Se guarda el modelo\n",
    "\n",
    "import pickle\n",
    "\n",
    "os.chdir(dataaugmentloc)\n",
    "\n",
    "# save\n",
    "with open('svcTrained.pkl','wb') as f:\n",
    "    pickle.dump(svc,f)\n",
    "\n",
    "# load\n",
    "#with open('model.pkl', 'rb') as f:\n",
    "#    svc2 = pickle.load(f)\n",
    "\n",
    "#svc2.predict(X[0:1])"
   ]
  },
  {
   "cell_type": "code",
   "execution_count": null,
   "metadata": {},
   "outputs": [],
   "source": [
    "#Opcionalmente, se imprimen graficos mostrando los datos encontrados\n",
    "\n",
    "ConfusionMatrixDisplay.from_predictions(y_test, pred,labels=[0,1,2,3,4,5,6])\n",
    "plt.show()\n",
    "\n",
    "confusion_matrix = metrics.confusion_matrix(y_true=y_test, y_pred=pred )\n",
    "label_frac_error = 1 - np.diag(confusion_matrix) / np.sum(confusion_matrix, axis=1)\n",
    "plt.bar(np.arange(7),label_frac_error)\n",
    "plt.title('Fracción de predicciónes incorrectas')\n",
    "plt.xlabel('Clase correcta')\n",
    "plt.ylabel('Fracción clasificada incorrectamente')\n",
    "plt.show()"
   ]
  }
 ],
 "metadata": {
  "kernelspec": {
   "display_name": "Python 3",
   "language": "python",
   "name": "python3"
  },
  "language_info": {
   "codemirror_mode": {
    "name": "ipython",
    "version": 3
   },
   "file_extension": ".py",
   "mimetype": "text/x-python",
   "name": "python",
   "nbconvert_exporter": "python",
   "pygments_lexer": "ipython3",
   "version": "3.11.2"
  },
  "orig_nbformat": 4
 },
 "nbformat": 4,
 "nbformat_minor": 2
}
